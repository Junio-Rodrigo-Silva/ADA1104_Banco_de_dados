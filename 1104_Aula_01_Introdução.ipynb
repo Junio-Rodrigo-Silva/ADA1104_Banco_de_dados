{
  "nbformat": 4,
  "nbformat_minor": 0,
  "metadata": {
    "colab": {
      "provenance": [],
      "include_colab_link": true
    },
    "kernelspec": {
      "name": "python3",
      "display_name": "Python 3"
    },
    "language_info": {
      "name": "python"
    }
  },
  "cells": [
    {
      "cell_type": "markdown",
      "metadata": {
        "id": "view-in-github",
        "colab_type": "text"
      },
      "source": [
        "<a href=\"https://colab.research.google.com/github/Junio-Rodrigo-Silva/ADA1104_Banco_de_dados/blob/main/1104_Aula_01_Introdu%C3%A7%C3%A3o.ipynb\" target=\"_parent\"><img src=\"https://colab.research.google.com/assets/colab-badge.svg\" alt=\"Open In Colab\"/></a>"
      ]
    },
    {
      "cell_type": "markdown",
      "source": [
        "# Seção 1: Introdução aos Sistemas de Gerenciamento de Banco de Dados (DBMS)\n",
        "\n",
        "## O Que é um DBMS?\n",
        "Um Sistema de Gerenciamento de Banco de Dados (DBMS) é um software projetado para armazenar, recuperar e manipular grandes conjuntos de dados. Este sistema é fundamental em aplicações que requerem o gerenciamento eficiente de grandes volumes de informação. Os DBMS relacionais, em particular, baseiam-se em um modelo que organiza os dados em tabelas com linhas e colunas, oferecendo uma abordagem intuitiva e flexível para o gerenciamento de dados.\n",
        "\n",
        "![advantages of dbms](https://scientips.com/wp-content/uploads/2020/07/yess.png)\n",
        "\n",
        "## A Importância dos DBMS\n",
        "Os DBMS oferecem várias vantagens em comparação com o armazenamento tradicional de dados em arquivos do sistema operacional. Estes incluem:\n",
        "\n",
        "- **Eficiência no Acesso aos Dados:** Técnicas sofisticadas para armazenamento e recuperação eficiente dos dados.\n",
        "- **Integridade e Segurança:** Capacidade de impor restrições de integridade e controlar o acesso aos dados, garantindo que apenas usuários autorizados possam acessar informações específicas.\n",
        "- **Administração Centralizada dos Dados:** Facilita a organização dos dados, reduzindo redundâncias e melhorando a qualidade da informação.\n",
        "\n",
        "![dbms](https://lh5.googleusercontent.com/jlooEUFrB1WkSrvTQRDPYCiYdqUxMfFUm4wSb6JEKWmii508hz10AkEiNHkDS1x8-nhzcnnCxhuD11EzJ8xvrj74kTv041JqRcv6IrkEIwhe4-02EJKwwQU-NNQrDFG-q3OtaQ1_)\n",
        "\n",
        "## Evolução Histórica dos DBMS\n",
        "A história dos DBMS remonta aos primeiros sistemas de gerenciamento na década de 1960. Com o tempo, o foco mudou dos modelos de dados hierárquicos e de rede para o modelo relacional, proposto por Edgar Codd. Este modelo trouxe uma forma revolucionária de representar e acessar dados, pavimentando o caminho para os sistemas modernos de gerenciamento de banco de dados.\n",
        "\n",
        "![history of dbms](https://www.researchgate.net/publication/356934804/figure/fig1/AS:1099553134649344@1639165304753/Evolution-of-database-systems.ppm)\n",
        "\n",
        "## O Modelo Relacional\n",
        "No coração dos DBMS relacionais, está o conceito de tabelas, também conhecidas como relações, compostas por linhas (tuplas) e colunas (atributos). Este modelo oferece uma maneira lógica e eficiente de estruturar e consultar dados, com operações como criação, leitura, atualização e exclusão (CRUD) que formam a base do gerenciamento de dados em tais sistemas.\n",
        "\n",
        "![rdbms](https://i.ytimg.com/vi/6BSlwKkgCYU/maxresdefault.jpg)\n",
        "\n",
        "## Exercícios\n",
        "\n",
        "1. **Explorando os Conceitos Básicos:**\n",
        "   - Descreva três vantagens-chave de usar um DBMS em vez de armazenar dados diretamente em arquivos do sistema operacional.\n",
        "   - Explique como o modelo relacional difere dos modelos de dados hierárquico e de rede.\n",
        "\n",
        "2. **Aplicação Prática:**\n",
        "   - Imagine que você é um administrador de banco de dados em uma universidade. Esboce um exemplo de tabela que poderia ser usada para armazenar informações sobre os alunos. Inclua pelo menos quatro atributos (colunas) relevantes.\n",
        "\n"
      ],
      "metadata": {
        "id": "_BYHaLgSKpx_"
      }
    },
    {
      "cell_type": "markdown",
      "source": [
        "# Seção 2: Gerenciamento de Dados e Modelagem de Dados\n",
        "\n",
        "## Gerenciamento de Dados no DBMS\n",
        "O gerenciamento de dados em um DBMS envolve a representação eficiente de informações de forma organizada e acessível. Um DBMS utiliza estruturas complexas para armazenar e recuperar dados, garantindo a integridade, segurança e eficiência no acesso. A essência do gerenciamento de dados é a capacidade de representar informações do mundo real de maneira que facilite a consulta e a manipulação desses dados.\n",
        "\n",
        "## Modelagem de Dados\n",
        "A modelagem de dados é um processo crucial que define como os dados serão armazenados e acessados em um DBMS. Ela envolve a definição de entidades (como estudantes, cursos, professores), seus atributos (como nome, idade, salário) e os relacionamentos entre essas entidades (como a inscrição de estudantes em cursos). A modelagem eficaz é fundamental para garantir que os dados sejam representados de maneira que suporte as necessidades e as consultas dos usuários.\n",
        "\n",
        "![entity-attribute](https://jcsites.juniata.edu/faculty/rhodes/dbms/images/ersymbols.gif)\n",
        "\n",
        "### Independência de Dados\n",
        "A independência de dados é um conceito-chave em DBMS, que permite a separação entre a descrição dos dados e a implementação física desses dados. Isso significa que as alterações na estrutura física dos dados (como mudança nos métodos de armazenamento) não afetam a forma como os dados são acessados e manipulados pelas aplicações.\n",
        "\n",
        "![data-independence](https://www.guru99.com/images/1/042919_0417_DataIndepen1.png)\n",
        "\n",
        "### Modelos de Dados Semânticos e ER\n",
        "O Modelo Entidade-Relacionamento (ER) é uma ferramenta poderosa para a modelagem conceitual de dados. Ele permite aos projetistas representar entidades, atributos e relacionamentos de forma visual através de Diagramas ER. Estes diagramas são essenciais para entender como os dados estão organizados e como eles se relacionam uns com os outros no DBMS.\n",
        "\n",
        "## Exercícios\n",
        "\n",
        "1. **Modelagem ER de um Sistema de Biblioteca:**\n",
        "   - Crie um Diagrama ER simples que represente um sistema de biblioteca. Inclua entidades como 'Livro', 'Autor' e 'Emprestimo', e mostre os relacionamentos entre essas entidades.\n",
        "\n",
        "2. **Discussão sobre Independência de Dados:**\n",
        "   - Explique como a independência de dados ajuda na manutenção e escalabilidade de um sistema de banco de dados, particularmente em um ambiente corporativo. Discuta um exemplo hipotético que ilustre esses benefícios.\n"
      ],
      "metadata": {
        "id": "RP0dtHWxJpSu"
      }
    },
    {
      "cell_type": "markdown",
      "source": [
        "# Seção 3: SQL e Manipulação de Dados\n",
        "\n",
        "## Introdução à SQL\n",
        "A Linguagem de Consulta Estruturada (SQL) é a linguagem padrão para interagir com um Sistema de Gerenciamento de Banco de Dados (DBMS). SQL permite aos usuários definir, manipular e acessar dados de maneira eficiente. Esta seção explora os aspectos fundamentais da SQL e como ela é aplicada na prática.\n",
        "\n",
        "### Compreendendo a SQL\n",
        "- **Definição e Uso:** SQL é uma linguagem poderosa e flexível usada para criar, gerenciar e consultar bancos de dados.\n",
        "- **Comandos Básicos:** Exploração dos comandos essenciais da SQL, como SELECT, INSERT, UPDATE e DELETE.\n",
        "\n",
        "### Consultas em SQL\n",
        "- **Extração de Dados:** Como formular consultas SQL para extrair informações específicas de um banco de dados, utilizando critérios de seleção e filtragem.\n",
        "- **Join de Tabelas:** Uso de JOIN para combinar registros de duas ou mais tabelas.\n",
        "\n",
        "### Manipulação de Dados com SQL\n",
        "- **Inserção e Atualização:** Técnicas para inserir novos dados e atualizar dados existentes em um banco de dados.\n",
        "- **Exclusão de Dados:** Como remover registros de um banco de dados de forma segura e eficiente.\n",
        "\n",
        "## Exercícios\n",
        "\n",
        "1. **Prática de Consulta SQL:**\n",
        "   - Escreva uma consulta SQL para selecionar todos os alunos com um GPA maior que 3.5 de uma tabela chamada `Estudantes`, que possui colunas `Nome`, `ID` e `GPA`.\n",
        "\n",
        "2. **Manipulação de Dados SQL:**\n",
        "   - Formule um comando SQL para atualizar o endereço de um aluno específico na tabela `Estudantes`. Considere as colunas `ID`, `Nome`, `Endereço` e atualize o endereço para \"123 Nova Rua\" para o aluno com ID 'A123'."
      ],
      "metadata": {
        "id": "6GxGTKWCK62r"
      }
    },
    {
      "cell_type": "markdown",
      "source": [
        "# Seção 4: Concorrência, Controle de Transações e Recuperação\n",
        "\n",
        "## Gerenciamento de Concorrência e Transações em DBMS\n",
        "Esta seção aborda como um Sistema de Gerenciamento de Banco de Dados (DBMS) lida com o acesso e a manipulação concorrente de dados, garantindo a integridade e a confiabilidade dos dados em cenários de múltiplos usuários e em casos de falhas do sistema.\n",
        "\n",
        "### Entendendo Transações\n",
        "- **Definição de Transação:** Uma transação é uma sequência de operações executadas como uma única unidade lógica de trabalho.\n",
        "- **Propriedades ACID:** As transações em um DBMS são guiadas pelas propriedades ACID (Atomicidade, Consistência, Isolamento, Durabilidade).\n",
        "\n",
        "![dbms transactions](https://www.tutorialspoint.com/dbms/images/transaction_states.png)\n",
        "\n",
        "### Controle de Concorrência\n",
        "- **Gerenciamento de Acesso Concorrente:** Como um DBMS gerencia o acesso simultâneo a dados por múltiplos usuários sem comprometer a integridade dos dados.\n",
        "- **Mecanismos de Bloqueio:** Uso de bloqueios para controlar o acesso aos dados, prevenindo conflitos e inconsistências.\n",
        "\n",
        "### Recuperação de Falhas\n",
        "- **Proteção Contra Falhas do Sistema:** Estratégias para garantir que os dados sejam protegidos e recuperáveis em caso de falhas do sistema.\n",
        "- **Logging e Checkpoints:** Técnicas como logging de transações e checkpoints que ajudam na recuperação rápida e eficaz dos dados.\n",
        "\n",
        "## Exercícios\n",
        "\n",
        "1. **Cenário de Controle de Concorrência:**\n",
        "   - Imagine um cenário em que dois usuários estão tentando atualizar o mesmo registro em um banco de dados. Escreva um breve parágrafo explicando como o mecanismo de bloqueio do DBMS poderia gerenciar esta situação para manter a consistência dos dados.\n",
        "\n",
        "2. **Planejamento de Recuperação de Falhas:**\n",
        "   - Descreva um plano de ação que um DBA (Administrador de Banco de Dados) poderia implementar para garantir a recuperação eficaz dos dados após uma falha inesperada do sistema. Inclua considerações sobre logging de transações e checkpoints.\n"
      ],
      "metadata": {
        "id": "qkfCD5NkLEJ0"
      }
    }
  ]
}