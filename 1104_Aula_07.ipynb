{
  "nbformat": 4,
  "nbformat_minor": 0,
  "metadata": {
    "colab": {
      "provenance": [],
      "include_colab_link": true
    },
    "kernelspec": {
      "name": "python3",
      "display_name": "Python 3"
    },
    "language_info": {
      "name": "python"
    }
  },
  "cells": [
    {
      "cell_type": "markdown",
      "metadata": {
        "id": "view-in-github",
        "colab_type": "text"
      },
      "source": [
        "<a href=\"https://colab.research.google.com/github/Junio-Rodrigo-Silva/ADA1104_Banco_de_dados/blob/main/1104_Aula_07.ipynb\" target=\"_parent\"><img src=\"https://colab.research.google.com/assets/colab-badge.svg\" alt=\"Open In Colab\"/></a>"
      ]
    },
    {
      "cell_type": "markdown",
      "source": [
        "#Seção 1: Entendendo e Utilizando Views no PostgreSQL\n",
        "\n",
        "**Introdução às Views:**\n",
        "\n",
        "- **Definição:** Uma view é uma tabela virtual criada por uma consulta SQL. Ela é tratada como uma tabela real em muitas operações, mas não é armazenada fisicamente.\n",
        "- **Analogia:** Comparação com janelas em uma casa - assim como as janelas oferecem diferentes perspectivas do exterior, as views oferecem diferentes visões dos dados.\n",
        "\n",
        "- Usos e Benefícios das Views:\n",
        "\n",
        "  - Simplificação de consultas complexas.\n",
        "  - Redução do volume de código SQL necessário.\n",
        "  - Restrição de acesso a dados sensíveis ou específicos.\n",
        "\n",
        "**Criando Views:**\n",
        "\n",
        "- Sintaxe básica:\n",
        "```sql\n",
        "CREATE VIEW nome_da_view AS\n",
        "SELECT colunas FROM tabela WHERE condição;\n",
        "```\n",
        "- Exemplo prático: Criação de uma view unindo informações das tabelas \"clientes\" e \"pedidos\".\n",
        "Consultando Views:\n",
        "```sql\n",
        "CREATE VIEW resumo_pedidos AS\n",
        "SELECT p.*, c.nome\n",
        "FROM pedidos p\n",
        "LEFT JOIN clientes c ON p.id_cliente = c.id_cliente;\n",
        "```\n",
        "\n",
        "**Características das Views no PostgreSQL:**\n",
        "- Atualizáveis vs. Somente leitura.\n",
        "- Armazenamento no banco de dados.\n",
        "- Abstração da complexidade das consultas.\n",
        "- Proteção de dados sensíveis.\n",
        "\n",
        "**Exercício Prático:**\n",
        "\n",
        "Criar uma view chamada \"presencas_total\" que contenha a presenças em todas aulas durante o curso.\n",
        "\n",
        "**Discussão em Aula:**\n",
        "\n",
        "Discuta as implicações de segurança e gerenciamento de dados ao utilizar views em um sistema de banco de dados.\n"
      ],
      "metadata": {
        "id": "o5oQotR-peoy"
      }
    }
  ]
}